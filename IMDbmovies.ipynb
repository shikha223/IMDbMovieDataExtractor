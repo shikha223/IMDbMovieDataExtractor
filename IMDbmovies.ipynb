{
 "cells": [
  {
   "cell_type": "code",
   "execution_count": 1,
   "metadata": {},
   "outputs": [],
   "source": [
    "import requests\n",
    "from bs4 import BeautifulSoup\n",
    "from lxml import etree as et\n",
    "import time\n",
    "import random\n",
    "import json\n",
    "from unidecode import unidecode"
   ]
  },
  {
   "cell_type": "code",
   "execution_count": null,
   "metadata": {},
   "outputs": [],
   "source": []
  },
  {
   "cell_type": "code",
   "execution_count": 2,
   "metadata": {},
   "outputs": [
    {
     "name": "stdout",
     "output_type": "stream",
     "text": [
      "['Action', 'Adventure', 'Animation', 'Biography', 'Comedy', 'Crime', 'Documentary', 'Drama', 'Family', 'Fantasy', 'Film-Noir', 'History', 'Horror', 'Music', 'Musical', 'Mystery', 'Romance', 'Sci-Fi', 'Short', 'Sport', 'Thriller', 'War', 'Western']\n"
     ]
    }
   ],
   "source": [
    "base_genre_url = 'https://www.imdb.com/feature/genre/'\n",
    "header = {\"User-Agent\": \"Mozilla/5.0 (Windows NT 10.0; Win64; x64) AppleWebKit/537.36 (KHTML, like Gecko) Chrome/81.0.4044.138 Safari/537.36\"}\n",
    "\n",
    "response = requests.get(base_genre_url, headers=header)\n",
    "soup = BeautifulSoup(response.text, 'html.parser')\n",
    "\n",
    "req_section = soup.find('a', {'href': '#movie'}).find_parent('section')\n",
    "\n",
    "req_div = req_section.find('div', class_=\"ipc-chip-list--base ipc-chip-list ipc-chip-list--wrap sc-7e857967-1 exgdzz\").find('div', class_=\"ipc-chip-list__scroller\")\n",
    "\n",
    "genres = []\n",
    "\n",
    "for tag in req_div.find_all('a'):\n",
    "    genres.append(tag.text)\n",
    "\n",
    "print(genres)"
   ]
  },
  {
   "cell_type": "code",
   "execution_count": 3,
   "metadata": {},
   "outputs": [],
   "source": [
    "def write_to_json(new_data, filename):\n",
    "    with open(filename, 'r+') as file:\n",
    "        file_data = json.load(file)\n",
    "        file_data.append(new_data)\n",
    "        file.seek(0)\n",
    "        json.dump(file_data, file, indent=4)\n",
    "\n",
    "def time_delay():\n",
    "    time.sleep(random.randint(2, 5))"
   ]
  },
  {
   "cell_type": "code",
   "execution_count": 4,
   "metadata": {},
   "outputs": [
    {
     "name": "stdout",
     "output_type": "stream",
     "text": [
      "1 written to json file\n",
      "\n",
      "2 written to json file\n",
      "\n",
      "3 written to json file\n",
      "\n",
      "4 written to json file\n",
      "\n",
      "5 written to json file\n",
      "\n",
      "6 written to json file\n",
      "\n",
      "7 written to json file\n",
      "\n",
      "8 written to json file\n",
      "\n",
      "9 written to json file\n",
      "\n",
      "10 written to json file\n",
      "\n",
      "11 written to json file\n",
      "\n",
      "12 written to json file\n",
      "\n",
      "13 written to json file\n",
      "\n",
      "14 written to json file\n",
      "\n",
      "15 written to json file\n",
      "\n",
      "16 written to json file\n",
      "\n",
      "17 written to json file\n",
      "\n",
      "18 written to json file\n",
      "\n",
      "19 written to json file\n",
      "\n",
      "20 written to json file\n",
      "\n",
      "21 written to json file\n",
      "\n",
      "22 written to json file\n",
      "\n",
      "23 written to json file\n",
      "\n"
     ]
    }
   ],
   "source": [
    "movie_urls = set()\n",
    "with open(\"top_20_movies.json\", \"w\") as f:\n",
    "    json.dump([], f)\n",
    "\n",
    "\n",
    "for genre in genres:\n",
    "    rank = genres.index(genre) + 1\n",
    "    genre_ = genre.replace(' ', '-').lower()\n",
    "    genre_url = 'https://www.imdb.com/search/title/?title_type=feature&genres=' + genre_\n",
    "    response = requests.get(genre_url, headers=header)\n",
    "    soup = BeautifulSoup(response.content, 'html.parser')\n",
    "    dom = et.HTML(str(soup))\n",
    "\n",
    "    movie_names = dom.xpath('//div[@class=\"ipc-title ipc-title--base ipc-title--title ipc-title-link-no-icon ipc-title--on-textPrimary sc-43986a27-9 gaoUku dli-title\"]/a/h3/text()')\n",
    "    movie_names = movie_names[:20]\n",
    "    movie_names = [unidecode(i) for i in movie_names]\n",
    "    movie_urls_list = dom.xpath('//div[@class=\"ipc-title ipc-title--base ipc-title--title ipc-title-link-no-icon ipc-title--on-textPrimary sc-43986a27-9 gaoUku dli-title\"]/a/@href')\n",
    "    movie_urls_list = movie_urls_list[:20]\n",
    "\n",
    "    for i in movie_urls_list:\n",
    "        short_url = \"https://www.imdb.com\" + i.split(\"?\")[0]\n",
    "        movie_urls.add(short_url)\n",
    "        # print(short_url)\n",
    "    # print(movie_names)\n",
    "    write_to_json({'s_no': rank, 'genre': genre, 'top_20': movie_names}, 'top_20_movies.json')\n",
    "\n",
    "    # time_delay()\n",
    "    print(\"{} written to json file\\n\".format(rank))\n",
    "    \n"
   ]
  },
  {
   "cell_type": "code",
   "execution_count": 5,
   "metadata": {},
   "outputs": [
    {
     "name": "stdout",
     "output_type": "stream",
     "text": [
      "total movies:  264\n"
     ]
    }
   ],
   "source": [
    "print('total movies: ', len(movie_urls))"
   ]
  },
  {
   "cell_type": "code",
   "execution_count": 7,
   "metadata": {},
   "outputs": [],
   "source": [
    "def get_reviews(movie_url):\n",
    "    review_url = \"reviews?sort=submissionDate&dir=desc&ratingFilter=0\"\n",
    "\n",
    "    response = requests.get(movie_url + review_url, headers=header)\n",
    "    soup = BeautifulSoup(response.content, 'html.parser')\n",
    "\n",
    "    review_container = soup.find('div', class_=\"lister-list\")\n",
    "    review_list = review_container.find_all('div', class_=\"lister-item-content\")\n",
    "    x = min(10, len(review_list))\n",
    "    review_list = review_list[:x]\n",
    "\n",
    "    reviews = []\n",
    "\n",
    "    for review in review_list:\n",
    "        review_title = review.find('a', class_=\"title\").text.strip()\n",
    "        review_text = review.find('div', class_=\"text show-more__control\").text\n",
    "        user_rating = review.find('span', class_=\"rating-other-user-rating\").find('span').text + \"/10\"\n",
    "        review_date = review.find('span', class_=\"review-date\").text\n",
    "        \n",
    "        reviews.append({'review_title': review_title,\n",
    "                        'review_text': review_text,\n",
    "                        'user_rating': user_rating,\n",
    "                        'review_date': review_date})\n",
    "\n",
    "    return reviews"
   ]
  },
  {
   "cell_type": "code",
   "execution_count": 8,
   "metadata": {},
   "outputs": [
    {
     "name": "stdout",
     "output_type": "stream",
     "text": [
      "1 written to json file\n",
      "\n",
      "2 written to json file\n",
      "\n",
      "3 written to json file\n",
      "\n",
      "4 written to json file\n",
      "\n",
      "5 written to json file\n",
      "\n"
     ]
    }
   ],
   "source": [
    "with open(\"movies_details.json\", \"w\") as f:\n",
    "    json.dump([], f)\n",
    "\n",
    "for rank, movie_url in enumerate(movie_urls):\n",
    "    response = requests.get(movie_url, headers=header)\n",
    "    soup = BeautifulSoup(response.content, 'html.parser')\n",
    "    dom = et.HTML(str(soup))\n",
    "\n",
    "    rank = rank + 1\n",
    "    movie_name = dom.xpath('//span[@data-testid=\"hero__primary-text\"]/text()')[0]\n",
    "    movie_year = dom.xpath('//ul[@class=\"ipc-inline-list ipc-inline-list--show-dividers sc-d8941411-2 cdJsTz baseAlt\"]/li/a/text()')[0]\n",
    "    director_name = dom.xpath('//a[@class=\"ipc-metadata-list-item__list-content-item ipc-metadata-list-item__list-content-item--link\"]/text()')[0]\n",
    "    try:\n",
    "        rating = dom.xpath('//span[@class=\"sc-bde20123-1 cMEQkK\"]/text()')[0] + '/10'\n",
    "        reviews = get_reviews(movie_url)\n",
    "    except:\n",
    "        rating = 'N/A'\n",
    "        reviews = []\n",
    "    actors_list = dom.xpath('//a[@data-testid=\"title-cast-item__actor\"]/text()')\n",
    "    actors_list = [unidecode(i) for i in actors_list]\n",
    "    \n",
    "    write_to_json({\n",
    "                   's_no': rank,\n",
    "                   'movie_title': movie_name,\n",
    "                   'movie_year' : movie_year,\n",
    "                   'director_name': unidecode(director_name),\n",
    "                   'imdb_rating': rating,\n",
    "                   'movie_url': movie_url,\n",
    "                   'cast': actors_list,\n",
    "                   'latest_10_reviews': reviews}, 'movies_details.json')\n",
    "\n",
    "    time_delay()\n",
    "    print(\"{} written to json file\\n\".format(rank))\n",
    "    \n",
    "\n",
    "    # to prevent running for long time since there are 200+ movies\n",
    "    # comment this if you want to run for all movies\n",
    "    if rank == 5:\n",
    "        break\n",
    "    \n",
    "    "
   ]
  },
  {
   "cell_type": "code",
   "execution_count": null,
   "metadata": {},
   "outputs": [],
   "source": []
  },
  {
   "cell_type": "code",
   "execution_count": null,
   "metadata": {},
   "outputs": [],
   "source": []
  },
  {
   "cell_type": "code",
   "execution_count": null,
   "metadata": {},
   "outputs": [],
   "source": []
  },
  {
   "cell_type": "code",
   "execution_count": null,
   "metadata": {},
   "outputs": [],
   "source": []
  },
  {
   "cell_type": "code",
   "execution_count": null,
   "metadata": {},
   "outputs": [],
   "source": []
  },
  {
   "cell_type": "code",
   "execution_count": null,
   "metadata": {},
   "outputs": [],
   "source": []
  },
  {
   "cell_type": "code",
   "execution_count": null,
   "metadata": {},
   "outputs": [],
   "source": []
  }
 ],
 "metadata": {
  "kernelspec": {
   "display_name": "Python 3",
   "language": "python",
   "name": "python3"
  },
  "language_info": {
   "codemirror_mode": {
    "name": "ipython",
    "version": 3
   },
   "file_extension": ".py",
   "mimetype": "text/x-python",
   "name": "python",
   "nbconvert_exporter": "python",
   "pygments_lexer": "ipython3",
   "version": "3.11.7"
  }
 },
 "nbformat": 4,
 "nbformat_minor": 2
}
